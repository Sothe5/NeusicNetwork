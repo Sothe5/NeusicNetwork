{
 "cells": [
  {
   "cell_type": "code",
   "execution_count": 10,
   "metadata": {
    "collapsed": false
   },
   "outputs": [],
   "source": [
    "import numpy as np\n",
    "import librosa\n",
    "import os\n",
    "from mutagen.mp3 import \n",
    "import pickle"
   ]
  },
  {
   "cell_type": "code",
   "execution_count": 11,
   "metadata": {
    "collapsed": true
   },
   "outputs": [],
   "source": [
    "def readMfcc(audioPath, size, length):\n",
    "    featuresArray = []\n",
    "    for i in range(0, size, length):\n",
    "        if i + length <= size - 1:\n",
    "            y, sr = librosa.load(audioPath, offset=i / length, duration=0.1)  #Instead of\"length\" used to be 0.1f\n",
    "            S = librosa.feature.melspectrogram(y, sr=sr, n_mels=128)\n",
    "            log_S = librosa.logamplitude(S, ref_power=np.max)\n",
    "            mfcc = librosa.feature.mfcc(S=log_S, sr=sr, n_mfcc=13)\n",
    "            featuresArray.append(mfcc)\n",
    "    return np.reshape(featuresArray,(len(featuresArray),13*5),order='C')"
   ]
  },
  {
   "cell_type": "code",
   "execution_count": 12,
   "metadata": {
    "collapsed": true
   },
   "outputs": [],
   "source": [
    "def getLabel(fileName, label_dict):\n",
    "    genre = label_dict[fileName.split('.')[0]];\n",
    "    ans = np.zeros(len(label_dict))\n",
    "    ans[genre] = 1;\n",
    "    return ans;"
   ]
  },
  {
   "cell_type": "code",
   "execution_count": 13,
   "metadata": {
    "collapsed": true
   },
   "outputs": [],
   "source": [
    "def saveDataIn(path, data):\n",
    "    with open(path, 'wb') as f:\n",
    "        f.write(pickle.dumps(data))"
   ]
  },
  {
   "cell_type": "code",
   "execution_count": null,
   "metadata": {
    "collapsed": true
   },
   "outputs": [],
   "source": [
    "sample_length = 1000\n",
    "\n",
    "label_dict ={\n",
    "    \"blues\": 0,\n",
    "    \"classical\": 1,\n",
    "    \"country\": 2,\n",
    "    \"disco\": 3,\n",
    "    \"hiphop\": 4,\n",
    "    \"jazz\": 5,\n",
    "    \"metal\": 6,\n",
    "    \"pop\": 7,\n",
    "    \"reagge\": 8,\n",
    "    \"rock\": 9,\n",
    "    \n",
    "}\n",
    "array = np.array(range(13))"
   ]
  },
  {
   "cell_type": "code",
   "execution_count": null,
   "metadata": {
    "collapsed": false
   },
   "outputs": [
    {
     "name": "stdout",
     "output_type": "stream",
     "text": [
      "0:30\n",
      "0:30\n",
      "0:30\n",
      "0:30\n"
     ]
    }
   ],
   "source": [
    "walk_dir = \"/run/media/zolastro/Storage/DatasetNeusic/genres\"\n",
    "inputs = []\n",
    "labels = []\n",
    "for root, subdirs, files in os.walk(walk_dir):\n",
    "    for filename in files:\n",
    "        if filename.endswith(\"au\"):\n",
    "            file_path = os.path.join(root, filename)\n",
    "            #audio = AU(file_path)\n",
    "            print(\"{}:{}\".format(int(30/60),(int(30%60))))\n",
    "            inputs.append(readMfcc(file_path,int(30*1000), sample_length))\n",
    "            labels.append(getLabel(filename, label_dict))"
   ]
  },
  {
   "cell_type": "code",
   "execution_count": null,
   "metadata": {
    "collapsed": true
   },
   "outputs": [],
   "source": [
    "saveDataIn('inputs', inputs)\n",
    "saveDataIn('labels', labels)\n",
    "getDataFrom('inputs')"
   ]
  },
  {
   "cell_type": "code",
   "execution_count": null,
   "metadata": {
    "collapsed": true
   },
   "outputs": [],
   "source": []
  },
  {
   "cell_type": "code",
   "execution_count": 52,
   "metadata": {
    "collapsed": true
   },
   "outputs": [],
   "source": [
    "def getDataFrom(path):\n",
    "    data = []\n",
    "    with open(path, 'rb') as f:\n",
    "        content = f.read()\n",
    "        data = pickle.loads(content)\n",
    "    return data"
   ]
  }
 ],
 "metadata": {
  "kernelspec": {
   "display_name": "Python 3",
   "language": "python",
   "name": "python3"
  },
  "language_info": {
   "codemirror_mode": {
    "name": "ipython",
    "version": 3
   },
   "file_extension": ".py",
   "mimetype": "text/x-python",
   "name": "python",
   "nbconvert_exporter": "python",
   "pygments_lexer": "ipython3",
   "version": "3.6.0"
  }
 },
 "nbformat": 4,
 "nbformat_minor": 2
}

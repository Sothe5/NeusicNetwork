{
 "cells": [
  {
   "cell_type": "code",
   "execution_count": 30,
   "metadata": {
    "collapsed": true
   },
   "outputs": [],
   "source": [
    "import numpy as np\n",
    "import librosa\n",
    "import os\n",
    "from mutagen.mp3 import MP3\n",
    "import pickle"
   ]
  },
  {
   "cell_type": "code",
   "execution_count": 64,
   "metadata": {
    "collapsed": true
   },
   "outputs": [],
   "source": [
    "def readMfcc(audioPath, size, length):\n",
    "    featuresArray = []\n",
    "    for i in range(0, size, length):\n",
    "        if i + length <= size - 1:\n",
    "            y, sr = librosa.load(audioPath, offset=i / length, duration=0.1)  #Instead of\"length\" used to be 0.1f\n",
    "            S = librosa.feature.melspectrogram(y, sr=sr, n_mels=128)\n",
    "            log_S = librosa.logamplitude(S, ref_power=np.max)\n",
    "            mfcc = librosa.feature.mfcc(S=log_S, sr=sr, n_mfcc=13)\n",
    "            featuresArray.append(mfcc)\n",
    "    return np.reshape(featuresArray,(len(featuresArray),13*5),order='C')"
   ]
  },
  {
   "cell_type": "code",
   "execution_count": 40,
   "metadata": {
    "collapsed": true
   },
   "outputs": [],
   "source": [
    "def getLabel(fileName, label_dict):\n",
    "    genre = label_dict[fileName.split('-')[0]];\n",
    "    ans = np.zeros(len(label_dict))\n",
    "    ans[genre] = 1;\n",
    "    return ans;"
   ]
  },
  {
   "cell_type": "code",
   "execution_count": 41,
   "metadata": {
    "collapsed": true
   },
   "outputs": [],
   "source": [
    "def saveDataIn(path, data):\n",
    "    with open(path, 'wb') as f:\n",
    "        f.write(pickle.dumps(data))"
   ]
  },
  {
   "cell_type": "code",
   "execution_count": 42,
   "metadata": {
    "collapsed": true
   },
   "outputs": [],
   "source": [
    "sample_length = 1000\n",
    "\n",
    "label_dict ={\n",
    "    \"rock\": 0,\n",
    "    \"blues\": 1,\n",
    "    \"jazz\": 2\n",
    "}\n",
    "array = np.array(range(13))"
   ]
  },
  {
   "cell_type": "code",
   "execution_count": 65,
   "metadata": {
    "collapsed": false
   },
   "outputs": [
    {
     "name": "stdout",
     "output_type": "stream",
     "text": [
      "0:1\n",
      "0:1\n"
     ]
    }
   ],
   "source": [
    "walk_dir = \"/Users/alvarodemarcosales/Desktop/songs\"\n",
    "inputs = []\n",
    "labels = []\n",
    "for root, subdirs, files in os.walk(walk_dir):\n",
    "    for filename in files:\n",
    "        if filename.endswith(\"mp3\"):\n",
    "            file_path = os.path.join(root, filename)\n",
    "            audio = MP3(file_path)\n",
    "            print(\"{}:{}\".format(int(audio.info.length/60),(int(audio.info.length%60))))\n",
    "            inputs.append(readMfcc(file_path,int(audio.info.length*1000), sample_length))\n",
    "            labels.append(getLabel(filename, label_dict))"
   ]
  },
  {
   "cell_type": "code",
   "execution_count": 66,
   "metadata": {
    "collapsed": false
   },
   "outputs": [
    {
     "data": {
      "text/plain": [
       "[array([[ -5.42947720e+02,  -4.14035619e+02,  -3.71131481e+02,\n",
       "          -3.78998635e+02,  -3.96051930e+02,   1.07679493e+02,\n",
       "           1.16086018e+02,   1.11980274e+02,   9.86607874e+01,\n",
       "           8.19368115e+01,  -3.33195801e+01,  -2.54537810e+01,\n",
       "          -1.08040079e+01,   1.46340530e+01,   3.70733499e+01,\n",
       "           3.34956271e+01,   2.66377921e+01,   1.17077710e+01,\n",
       "           1.10711531e+01,   3.03758621e+01,  -1.54551160e+01,\n",
       "          -8.84407551e+00,  -1.21477974e+00,   4.78203668e+00,\n",
       "           6.61503211e+00,   1.06519174e+01,   1.27863821e+01,\n",
       "           1.54048590e+01,   1.49647364e+01,   9.06078295e+00,\n",
       "           1.53673068e+01,   1.30252567e+01,   1.26464011e+01,\n",
       "           8.98256453e+00,   8.24966297e+00,   2.60691286e+01,\n",
       "           2.08599974e+01,   2.10286633e+01,   2.06402523e+01,\n",
       "           1.66256053e+01,   1.21069673e+01,   1.03317899e+01,\n",
       "           5.41664470e+00,  -2.35305849e+00,   2.65781604e+00,\n",
       "           1.52137298e+01,   1.95687153e+01,   2.05875767e+01,\n",
       "           1.85082861e+01,   1.74019174e+01,   3.79804889e+00,\n",
       "           7.19548053e+00,   9.06043074e-01,  -4.68666671e-01,\n",
       "          -3.02006879e-01,   5.40672944e-01,   8.04382403e+00,\n",
       "           8.98045696e+00,   5.54100121e+00,   8.58945373e+00,\n",
       "          -1.83100463e+00,   2.47827257e+00,  -1.62864857e+00,\n",
       "          -7.05363756e+00,   3.00404231e+00]]),\n",
       " array([[ -5.42947720e+02,  -4.14035619e+02,  -3.71131481e+02,\n",
       "          -3.78998635e+02,  -3.96051930e+02,   1.07679493e+02,\n",
       "           1.16086018e+02,   1.11980274e+02,   9.86607874e+01,\n",
       "           8.19368115e+01,  -3.33195801e+01,  -2.54537810e+01,\n",
       "          -1.08040079e+01,   1.46340530e+01,   3.70733499e+01,\n",
       "           3.34956271e+01,   2.66377921e+01,   1.17077710e+01,\n",
       "           1.10711531e+01,   3.03758621e+01,  -1.54551160e+01,\n",
       "          -8.84407551e+00,  -1.21477974e+00,   4.78203668e+00,\n",
       "           6.61503211e+00,   1.06519174e+01,   1.27863821e+01,\n",
       "           1.54048590e+01,   1.49647364e+01,   9.06078295e+00,\n",
       "           1.53673068e+01,   1.30252567e+01,   1.26464011e+01,\n",
       "           8.98256453e+00,   8.24966297e+00,   2.60691286e+01,\n",
       "           2.08599974e+01,   2.10286633e+01,   2.06402523e+01,\n",
       "           1.66256053e+01,   1.21069673e+01,   1.03317899e+01,\n",
       "           5.41664470e+00,  -2.35305849e+00,   2.65781604e+00,\n",
       "           1.52137298e+01,   1.95687153e+01,   2.05875767e+01,\n",
       "           1.85082861e+01,   1.74019174e+01,   3.79804889e+00,\n",
       "           7.19548053e+00,   9.06043074e-01,  -4.68666671e-01,\n",
       "          -3.02006879e-01,   5.40672944e-01,   8.04382403e+00,\n",
       "           8.98045696e+00,   5.54100121e+00,   8.58945373e+00,\n",
       "          -1.83100463e+00,   2.47827257e+00,  -1.62864857e+00,\n",
       "          -7.05363756e+00,   3.00404231e+00]])]"
      ]
     },
     "execution_count": 66,
     "metadata": {},
     "output_type": "execute_result"
    }
   ],
   "source": [
    "saveDataIn('inputs', inputs)\n",
    "saveDataIn('labels', labels)\n",
    "getDataFrom('inputs')"
   ]
  },
  {
   "cell_type": "code",
   "execution_count": 59,
   "metadata": {
    "collapsed": false
   },
   "outputs": [
    {
     "data": {
      "text/plain": [
       "[[array([[ -5.42947720e+02,  -4.14035619e+02,  -3.71131481e+02,\n",
       "           -3.78998635e+02,  -3.96051930e+02],\n",
       "         [  1.07679493e+02,   1.16086018e+02,   1.11980274e+02,\n",
       "            9.86607874e+01,   8.19368115e+01],\n",
       "         [ -3.33195801e+01,  -2.54537810e+01,  -1.08040079e+01,\n",
       "            1.46340530e+01,   3.70733499e+01],\n",
       "         [  3.34956271e+01,   2.66377921e+01,   1.17077710e+01,\n",
       "            1.10711531e+01,   3.03758621e+01],\n",
       "         [ -1.54551160e+01,  -8.84407551e+00,  -1.21477974e+00,\n",
       "            4.78203668e+00,   6.61503211e+00],\n",
       "         [  1.06519174e+01,   1.27863821e+01,   1.54048590e+01,\n",
       "            1.49647364e+01,   9.06078295e+00],\n",
       "         [  1.53673068e+01,   1.30252567e+01,   1.26464011e+01,\n",
       "            8.98256453e+00,   8.24966297e+00],\n",
       "         [  2.60691286e+01,   2.08599974e+01,   2.10286633e+01,\n",
       "            2.06402523e+01,   1.66256053e+01],\n",
       "         [  1.21069673e+01,   1.03317899e+01,   5.41664470e+00,\n",
       "           -2.35305849e+00,   2.65781604e+00],\n",
       "         [  1.52137298e+01,   1.95687153e+01,   2.05875767e+01,\n",
       "            1.85082861e+01,   1.74019174e+01],\n",
       "         [  3.79804889e+00,   7.19548053e+00,   9.06043074e-01,\n",
       "           -4.68666671e-01,  -3.02006879e-01],\n",
       "         [  5.40672944e-01,   8.04382403e+00,   8.98045696e+00,\n",
       "            5.54100121e+00,   8.58945373e+00],\n",
       "         [ -1.83100463e+00,   2.47827257e+00,  -1.62864857e+00,\n",
       "           -7.05363756e+00,   3.00404231e+00]])],\n",
       " [array([[ -5.42947720e+02,  -4.14035619e+02,  -3.71131481e+02,\n",
       "           -3.78998635e+02,  -3.96051930e+02],\n",
       "         [  1.07679493e+02,   1.16086018e+02,   1.11980274e+02,\n",
       "            9.86607874e+01,   8.19368115e+01],\n",
       "         [ -3.33195801e+01,  -2.54537810e+01,  -1.08040079e+01,\n",
       "            1.46340530e+01,   3.70733499e+01],\n",
       "         [  3.34956271e+01,   2.66377921e+01,   1.17077710e+01,\n",
       "            1.10711531e+01,   3.03758621e+01],\n",
       "         [ -1.54551160e+01,  -8.84407551e+00,  -1.21477974e+00,\n",
       "            4.78203668e+00,   6.61503211e+00],\n",
       "         [  1.06519174e+01,   1.27863821e+01,   1.54048590e+01,\n",
       "            1.49647364e+01,   9.06078295e+00],\n",
       "         [  1.53673068e+01,   1.30252567e+01,   1.26464011e+01,\n",
       "            8.98256453e+00,   8.24966297e+00],\n",
       "         [  2.60691286e+01,   2.08599974e+01,   2.10286633e+01,\n",
       "            2.06402523e+01,   1.66256053e+01],\n",
       "         [  1.21069673e+01,   1.03317899e+01,   5.41664470e+00,\n",
       "           -2.35305849e+00,   2.65781604e+00],\n",
       "         [  1.52137298e+01,   1.95687153e+01,   2.05875767e+01,\n",
       "            1.85082861e+01,   1.74019174e+01],\n",
       "         [  3.79804889e+00,   7.19548053e+00,   9.06043074e-01,\n",
       "           -4.68666671e-01,  -3.02006879e-01],\n",
       "         [  5.40672944e-01,   8.04382403e+00,   8.98045696e+00,\n",
       "            5.54100121e+00,   8.58945373e+00],\n",
       "         [ -1.83100463e+00,   2.47827257e+00,  -1.62864857e+00,\n",
       "           -7.05363756e+00,   3.00404231e+00]])]]"
      ]
     },
     "execution_count": 59,
     "metadata": {},
     "output_type": "execute_result"
    }
   ],
   "source": [
    "read()"
   ]
  },
  {
   "cell_type": "code",
   "execution_count": 52,
   "metadata": {
    "collapsed": true
   },
   "outputs": [],
   "source": [
    "def getDataFrom(path):\n",
    "    data = []\n",
    "    with open(path, 'rb') as f:\n",
    "        content = f.read()\n",
    "        data = pickle.loads(content)\n",
    "    return data"
   ]
  },
  {
   "cell_type": "code",
   "execution_count": null,
   "metadata": {
    "collapsed": true
   },
   "outputs": [],
   "source": []
  }
 ],
 "metadata": {
  "kernelspec": {
   "display_name": "Python 3",
   "language": "python",
   "name": "python3"
  },
  "language_info": {
   "codemirror_mode": {
    "name": "ipython",
    "version": 3
   },
   "file_extension": ".py",
   "mimetype": "text/x-python",
   "name": "python",
   "nbconvert_exporter": "python",
   "pygments_lexer": "ipython3",
   "version": "3.6.0"
  }
 },
 "nbformat": 4,
 "nbformat_minor": 2
}

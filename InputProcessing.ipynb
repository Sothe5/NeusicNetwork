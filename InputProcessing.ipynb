{
 "cells": [
  {
   "cell_type": "code",
   "execution_count": 1,
   "metadata": {
    "collapsed": false
   },
   "outputs": [
    {
     "ename": "ModuleNotFoundError",
     "evalue": "No module named 'librosa'",
     "output_type": "error",
     "traceback": [
      "\u001b[0;31m---------------------------------------------------------------------------\u001b[0m",
      "\u001b[0;31mModuleNotFoundError\u001b[0m                       Traceback (most recent call last)",
      "\u001b[0;32m<ipython-input-1-35deafc6ab10>\u001b[0m in \u001b[0;36m<module>\u001b[0;34m()\u001b[0m\n\u001b[1;32m      1\u001b[0m \u001b[0;32mimport\u001b[0m \u001b[0mnumpy\u001b[0m \u001b[0;32mas\u001b[0m \u001b[0mnp\u001b[0m\u001b[0;34m\u001b[0m\u001b[0m\n\u001b[0;32m----> 2\u001b[0;31m \u001b[0;32mimport\u001b[0m \u001b[0mlibrosa\u001b[0m\u001b[0;34m\u001b[0m\u001b[0m\n\u001b[0m\u001b[1;32m      3\u001b[0m \u001b[0;32mimport\u001b[0m \u001b[0mos\u001b[0m\u001b[0;34m\u001b[0m\u001b[0m\n\u001b[1;32m      4\u001b[0m \u001b[0;32mfrom\u001b[0m \u001b[0mmutagen\u001b[0m\u001b[0;34m.\u001b[0m\u001b[0mmp3\u001b[0m \u001b[0;32mimport\u001b[0m \u001b[0mMP3\u001b[0m\u001b[0;34m\u001b[0m\u001b[0m\n",
      "\u001b[0;31mModuleNotFoundError\u001b[0m: No module named 'librosa'"
     ]
    }
   ],
   "source": [
    "import numpy as np\n",
    "import librosa\n",
    "import os\n",
    "from mutagen.mp3 import MP3"
   ]
  },
  {
   "cell_type": "code",
   "execution_count": 1,
   "metadata": {
    "collapsed": true
   },
   "outputs": [],
   "source": [
    "def readMfcc(audioPath,size, length):\n",
    "    featuresArray = []\n",
    "    for i in range(0, size, length):\n",
    "        if i + length <= size - 1:\n",
    "            y, sr = librosa.load(audioPath, offset=i / length, duration=length)  #Instead of\"length\" used to be 0.1f\n",
    "            S = librosa.feature.melspectrogram(y, sr=sr, n_mels=128)\n",
    "            log_S = librosa.logamplitude(S, ref_power=np.max)\n",
    "            mfcc = librosa.feature.mfcc(S=log_S, sr=sr, n_mfcc=13)\n",
    "            featuresArray.append(mfcc)\n",
    "\n",
    "    return featuresArray\n",
    "            \n",
    "    "
   ]
  },
  {
   "cell_type": "code",
   "execution_count": 2,
   "metadata": {
    "collapsed": true
   },
   "outputs": [],
   "source": [
    "def getLabel(fileName, label_dict):\n",
    "    genre = label_dict[fileName.split('-')[0]];\n",
    "    ans = np.zeros(len(label_dict))\n",
    "    ans[genre] = 1;\n",
    "    return ans;"
   ]
  },
  {
   "cell_type": "code",
   "execution_count": 1,
   "metadata": {
    "collapsed": false,
    "scrolled": true
   },
   "outputs": [],
   "source": [
    "sample_length = 1000\n",
    "\n",
    "label_dict ={\n",
    "    \"rock\": 0,\n",
    "    \"blues\": 1,\n",
    "    \"jazz\": 2\n",
    "}"
   ]
  },
  {
   "cell_type": "code",
   "execution_count": null,
   "metadata": {
    "collapsed": true
   },
   "outputs": [],
   "source": [
    "walk_dir = \"/Users/alvarodemarcosales/Desktop/songs\"\n",
    "data = []\n",
    "labels = []\n",
    "for root, subdirs, files in os.walk(walk_dir):\n",
    "    for filename in files:\n",
    "        if filename.endswith(\"mp3\"):\n",
    "            file_path = os.path.join(root, filename)\n",
    "            audio = MP3(file_path)\n",
    "            print(\"{}:{}\".format(int(audio.info.length/60),(int(audio.info.length%60))))\n",
    "            data.append(readMfcc(file_path,int(audio.info.length*1000)), sample_length)\n",
    "            labels.append(getLabel(filename, label_dict))"
   ]
  }
 ],
 "metadata": {
  "kernelspec": {
   "display_name": "Python 3",
   "language": "python",
   "name": "python3"
  },
  "language_info": {
   "codemirror_mode": {
    "name": "ipython",
    "version": 3
   },
   "file_extension": ".py",
   "mimetype": "text/x-python",
   "name": "python",
   "nbconvert_exporter": "python",
   "pygments_lexer": "ipython3",
   "version": "3.6.0"
  }
 },
 "nbformat": 4,
 "nbformat_minor": 2
}
